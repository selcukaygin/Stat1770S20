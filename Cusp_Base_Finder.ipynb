{
 "cells": [
  {
   "cell_type": "code",
   "execution_count": 94,
   "metadata": {
    "scrolled": false
   },
   "outputs": [
    {
     "name": "stdout",
     "output_type": "stream",
     "text": [
      "('dimension of the cusp space is', 41)\n",
      "('cusp sum is: ', 96)\n",
      "('Number of cusps is: ', 16)\n"
     ]
    },
    {
     "ename": "KeyboardInterrupt",
     "evalue": "",
     "output_type": "error",
     "traceback": [
      "\u001b[0;31m---------------------------------------------------------------------------\u001b[0m",
      "\u001b[0;31mKeyboardInterrupt\u001b[0m                         Traceback (most recent call last)",
      "\u001b[0;32m<ipython-input-94-d1eedc495ca3>\u001b[0m in \u001b[0;36m<module>\u001b[0;34m()\u001b[0m\n\u001b[1;32m     56\u001b[0m         \u001b[0;31m#print 9,result\u001b[0m\u001b[0;34m\u001b[0m\u001b[0;34m\u001b[0m\u001b[0m\n\u001b[1;32m     57\u001b[0m         \u001b[0mpos\u001b[0m\u001b[0;34m=\u001b[0m\u001b[0mlen\u001b[0m\u001b[0;34m(\u001b[0m\u001b[0mresult\u001b[0m\u001b[0;34m)\u001b[0m\u001b[0;34m-\u001b[0m\u001b[0mInteger\u001b[0m\u001b[0;34m(\u001b[0m\u001b[0;36m3\u001b[0m\u001b[0;34m)\u001b[0m\u001b[0;34m\u001b[0m\u001b[0m\n\u001b[0;32m---> 58\u001b[0;31m         \u001b[0mexps\u001b[0m\u001b[0;34m=\u001b[0m\u001b[0mEQinv\u001b[0m\u001b[0;34m*\u001b[0m\u001b[0mresult\u001b[0m\u001b[0;34m\u001b[0m\u001b[0m\n\u001b[0m\u001b[1;32m     59\u001b[0m         \u001b[0;32mif\u001b[0m \u001b[0mall\u001b[0m\u001b[0;34m(\u001b[0m\u001b[0;34m[\u001b[0m\u001b[0mexps\u001b[0m\u001b[0;34m[\u001b[0m\u001b[0mi\u001b[0m\u001b[0;34m]\u001b[0m \u001b[0;32min\u001b[0m \u001b[0mZZ\u001b[0m \u001b[0;32mfor\u001b[0m \u001b[0mi\u001b[0m \u001b[0;32min\u001b[0m \u001b[0mrange\u001b[0m\u001b[0;34m(\u001b[0m\u001b[0mlen\u001b[0m\u001b[0;34m(\u001b[0m\u001b[0mexps\u001b[0m\u001b[0;34m)\u001b[0m\u001b[0;34m)\u001b[0m\u001b[0;34m]\u001b[0m\u001b[0;34m)\u001b[0m\u001b[0;34m:\u001b[0m\u001b[0;34m\u001b[0m\u001b[0m\n\u001b[1;32m     60\u001b[0m             \u001b[0mEXPS\u001b[0m\u001b[0;34m.\u001b[0m\u001b[0mappend\u001b[0m\u001b[0;34m(\u001b[0m\u001b[0mexps\u001b[0m\u001b[0;34m)\u001b[0m\u001b[0;34m\u001b[0m\u001b[0m\n",
      "\u001b[0;32msrc/cysignals/signals.pyx\u001b[0m in \u001b[0;36mcysignals.signals.python_check_interrupt\u001b[0;34m()\u001b[0m\n",
      "\u001b[0;31mKeyboardInterrupt\u001b[0m: "
     ]
    }
   ],
   "source": [
    "#finds number of eta quotients whose orders at infty are different.\n",
    "#works for integer orders\n",
    "#there is no control for the character, double check\n",
    "N=2*3*5*7;\n",
    "k=2;\n",
    "Divs=divisors(N);\n",
    "\n",
    "dim=dimension_cusp_forms(Gamma0(N),k);\n",
    "print('dimension of the cusp space is', dim)\n",
    "\n",
    "def cusp_sum_for_checking(result,N):\n",
    "    sum=0;\n",
    "    for i in range(len(Divs)):\n",
    "        sum=sum+euler_phi(gcd(Divs[i],N/Divs[i]))*result[i]\n",
    "    return sum\n",
    "        \n",
    "cs=2*k*N/24;\n",
    "for i in list(factor(N)):\n",
    "    cs=cs*(i[0]+1)/i[0] \n",
    "\n",
    "print('cusp sum is: ', cs)\n",
    "\n",
    "cn=0;\n",
    "for i in Divs:\n",
    "    cn=cn+euler_phi(gcd(i,N/i))\n",
    "\n",
    "print('Number of cusps is: ', cn)\n",
    "\n",
    "EQ=zero_matrix(QQ,len(Divs),len(Divs));\n",
    "\n",
    "for i in range(len(Divs)):\n",
    "    for j in range(len(Divs)):\n",
    "        EQ[i,j]=(((N)/(24*gcd(Divs[i]^2,N)))*(((gcd(Divs[i],Divs[j])^2)/(Divs[j]))))\n",
    "\n",
    "EQinv=EQ.inverse()\n",
    "\n",
    "EXPS=[];\n",
    "ranges=[];\n",
    "for i in range(len(Divs)):\n",
    "    ranges.append((1,cs))\n",
    "#print(ranges)\n",
    "\n",
    "#from operator import mul\n",
    "operations=binomial(len(Divs) + cs - 1, cs)\n",
    "result=vector(QQ,[i[0] for i in ranges])\n",
    "result[len(result)-2]=cs-cn+1\n",
    "pos=len(ranges)-3\n",
    "increments=1\n",
    "#print result\n",
    "#exps=EQinv*result\n",
    "#if sum(exps)==2*k and all([exps[i] in ZZ for i in range(len(exps))]):\n",
    "#    EXPS.append(exps)\n",
    "\n",
    "while result[len(result)-1] < cs-cn+1:\n",
    "    if result[len(result)-2]>1:\n",
    "        #print 9,result\n",
    "        pos=len(result)-3\n",
    "        exps=EQinv*result\n",
    "        if all([exps[i] in ZZ for i in range(len(exps))]):\n",
    "            EXPS.append(exps)\n",
    "            result[len(result)-1]+=1\n",
    "            for i in range(len(result)-2):\n",
    "                result[i]=1\n",
    "            result[len(result)-2]=cs-sum(result[j] for j in range(len(result)-3))-result[len(result)-1]-1\n",
    "            continue\n",
    "        result[pos]+=1\n",
    "        result[len(result)-2]-=1\n",
    "    elif result[len(result)-2]==1 and result[pos]<>cs-cn+1:\n",
    "        #print 99,result\n",
    "        exps=EQinv*result\n",
    "        if all([exps[i] in ZZ for i in range(len(exps))]):\n",
    "            EXPS.append(exps)\n",
    "            result[len(result)-1]+=1\n",
    "            for i in range(len(result)-2):\n",
    "                result[i]=1\n",
    "            result[len(result)-2]=cs-sum(result[j] for j in range(len(result)-3))-result[len(result)-1]-1\n",
    "            continue\n",
    "        increments+=1\n",
    "        result[pos]=ranges[pos][0]\n",
    "        pos-=1\n",
    "        result[pos]+=1\n",
    "        result[len(result)-2]=cs-sum(result[j] for j in range(len(result)-3))-result[len(result)-1]-1\n",
    "    elif result[len(result)-2]==1 and result[pos]==cs-cn+1:\n",
    "        #print 999,result\n",
    "        exps=EQinv*result\n",
    "        if all([exps[i] in ZZ for i in range(len(exps))]):\n",
    "            EXPS.append(exps)\n",
    "            result[len(result)-1]+=1\n",
    "            for i in range(len(result)-2):\n",
    "                result[i]=1\n",
    "            result[len(result)-2]=cs-sum(result[j] for j in range(len(result)-3))-result[len(result)-1]-1\n",
    "            continue\n",
    "        result[pos]=1\n",
    "        result[pos-1]+=1\n",
    "        result[len(result)-2]=cs-sum(result[j] for j in range(len(result)-3))-result[len(result)-1]-1\n",
    "        pos=len(result)-2\n",
    "\n",
    "#checking the last possibility\n",
    "result=vector(QQ,[i[0] for i in ranges])\n",
    "result[len(result)-1]=cs-cn+1\n",
    "exps=EQinv*result\n",
    "if all([exps[i] in ZZ for i in range(len(exps))]):\n",
    "    EXPS.append(exps)\n",
    "\n",
    "#EXPS.sort()\n",
    "print('number of linearly independent eta quotients is', len(EXPS))\n",
    "print('codimension is', dim-len(EXPS))            \n",
    "print(EXPS)"
   ]
  },
  {
   "cell_type": "code",
   "execution_count": 95,
   "metadata": {},
   "outputs": [
    {
     "data": {
      "text/plain": [
       "(1, 1, 1, 1, 1, 1, 1, 1, 1, 1, 19, 26, 10, 21, 9, 1)"
      ]
     },
     "execution_count": 95,
     "metadata": {},
     "output_type": "execute_result"
    }
   ],
   "source": [
    "result"
   ]
  },
  {
   "cell_type": "code",
   "execution_count": 96,
   "metadata": {},
   "outputs": [
    {
     "data": {
      "text/plain": [
       "[]"
      ]
     },
     "execution_count": 96,
     "metadata": {},
     "output_type": "execute_result"
    }
   ],
   "source": [
    "EXPS"
   ]
  },
  {
   "cell_type": "code",
   "execution_count": null,
   "metadata": {},
   "outputs": [],
   "source": []
  }
 ],
 "metadata": {
  "kernelspec": {
   "display_name": "SageMath 8.7",
   "language": "",
   "name": "sagemath"
  },
  "language_info": {
   "codemirror_mode": {
    "name": "ipython",
    "version": 2
   },
   "file_extension": ".py",
   "mimetype": "text/x-python",
   "name": "python",
   "nbconvert_exporter": "python",
   "pygments_lexer": "ipython2",
   "version": "2.7.15"
  }
 },
 "nbformat": 4,
 "nbformat_minor": 2
}
